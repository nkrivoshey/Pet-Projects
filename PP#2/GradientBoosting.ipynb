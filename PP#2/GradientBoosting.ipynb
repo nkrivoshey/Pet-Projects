{
 "cells": [
  {
   "cell_type": "markdown",
   "id": "0fe0ee79-8350-4344-99d6-cb0d81c8af50",
   "metadata": {},
   "source": [
    "**Наверное, каждый DS специалист знает как работают bagging & ensemble algorithms in ML. Все хором скажут, что это алгоритмы, которые обучают n-ое кол-во моделей(weak models / estimators) и делают финальное предсказание на основе усреднения,голосования полученных значений. Да,правильно. Однако, интересен тот факт, что модели градиентного бустинга учатся не на истинных значениях('y' labels),а на \"остатках\" от предсказания модели с предыдущего шага. Если же говорить про регрссию,то таргетом модели всегда является ошибка предыдущей модели, под которую старается подстроиться следующая модель. Звучит не очень понятно и костыльно, но в jupyter notebook это выглядит весьма тривиально. Сейчас постараюсь это вам показать.**\n",
    "\n",
    "> Также как и в предыдущей серии проекта необходимо смотреть не только на .ipynb файл, но и на .py . В текущей серии все внимание должно быть приковано именно к ним, так как там реализована вся техника градиентного бустинга, который я попытался кратко описать выше."
   ]
  },
  {
   "cell_type": "markdown",
   "id": "2512e568-09fa-4403-9c99-fe6570b27c8a",
   "metadata": {
    "tags": []
   },
   "source": [
    "### Немного теории перед практикой"
   ]
  },
  {
   "cell_type": "markdown",
   "id": "92409848-9ca9-44ed-8eaf-b86251b6b45d",
   "metadata": {},
   "source": [
    "* **Алгоритм градиентного бустинга с выводом антиградиента с косинусной функцией потерь:**\n",
    "    * Мы решаем задачу, где $yi$ - целевая переменная, а $f(xi)$ - предсказание модели.\n",
    "    * Косинусная функция потерь:\n",
    "        * $L(yi,f(xi)) = cos(yi, f(xi))$  $<=>$  $\\frac{\\partial L(y_i, f(x_i))}{\\partial f(x_i)} = -\\sin(y_i - f(x_i))$  $<=>$  $r_{im} = -\\sin(y_i - f(x_i))$\n",
    "        \n",
    "    1) **Инициализация алгоритма**:\n",
    "       * Инициализировать начальную модель: $f$<sub>0</sub>$(x)$ константным значением.\n",
    "    2) **Пошаговое обучение модели**:\n",
    "       * Для каждого шага $m=1,2,3,...,M$ , где  $M$ - количество деревьев:\n",
    "           * Вычислить антиградиент косинусной функции потерь по предсказаниям: $r_{im} = -\\sin(y_i - f(x_i))$\n",
    "           * Обучить дерево решений $h$<sub>m</sub>$(x)$ на антиградиенте $r$<sub>im</sub>\n",
    "           * Вычислить оптимальный коэффициент для дерева $m$:\n",
    "               * $\\gamma_m = \\arg \\min_\\gamma \\sum_{i=1}^{N} L(y_i, f_{m-1}(x_i) + \\gamma h_m(x_i))$\n",
    "                   - $N$ - количество наблюдений в обучающем наборе\n",
    "                   - $f_{m-1}(x_i)$ - текущее предсказание модели (комбинация предыдущих деревьев)\n",
    "                   - $h_m(x_i)$ - предсказание текущего дерева\n",
    "                   - $L(y_i, f_{m-1}(x_i) + \\gamma h_m(x_i))$ - косинусная функция потерь между истинным значением $y_i$ и комбинированным предсказанием.\n",
    "           * Обновить модель, двигаясь в сторону антиградиента:\n",
    "               * $f_m(x) = f_{m-1}(x) + \\eta \\gamma_m h_m(x)$\n",
    "                   - $f$<sub>m</sub>$(x)$ - новое предсказание на $m$-м шаге\n",
    "                   - $f$<sub>m-1</sub>$(x)$ - предыдущее предсказание\n",
    "                   - $η$ - темп обучения (learning rate)\n",
    "                   - $γ$<sub>m</sub> - оптимальный коэффициент для $m$-го дерева\n",
    "                   - $h$<sub>m</sub>$(x)$ - предсказание $m$-го дерева\n",
    "                   \n",
    "    3) **Вывод оптимизирующей функции**:\n",
    "        * $F(x) = \\sum_{m=1}^{M} \\gamma_m h_m(x)$\n",
    "            - Главная задача данного метода - минимизация косинусной функции потерь при последовательном добавлении деревьев\n"
   ]
  },
  {
   "cell_type": "markdown",
   "id": "e8c34e5b-c71b-490e-9f68-08e2317eb836",
   "metadata": {},
   "source": [
    "# Начинаются блоки кодинга"
   ]
  },
  {
   "cell_type": "code",
   "execution_count": null,
   "id": "83352186-7102-42e8-9f0b-4b60520cf369",
   "metadata": {},
   "outputs": [],
   "source": [
    "from DecisionTreeRegressor import DecisionTreeRegressor\n",
    "from GradientBoosting import GradientBoosting\n",
    "import numpy as np\n",
    "import pandas as pd\n",
    "from sklearn.metrics import mean_absolute_error, mean_absolute_percentage_error, mean_squared_error\n",
    "from sklearn.model_selection import train_test_split\n",
    "from sklearn.datasets import load_diabetes"
   ]
  },
  {
   "cell_type": "code",
   "execution_count": null,
   "id": "b405e4d7-dc2d-40c0-a81b-797fa5b7ac12",
   "metadata": {},
   "outputs": [],
   "source": [
    "# Берем готовые датасет из sklearn \n",
    "data = load_diabetes()"
   ]
  },
  {
   "cell_type": "code",
   "execution_count": null,
   "id": "c66319c9-5435-47f1-8308-26acd81a6d81",
   "metadata": {},
   "outputs": [],
   "source": [
    "X,y = data.data, data.target"
   ]
  },
  {
   "cell_type": "code",
   "execution_count": null,
   "id": "2b361fe2-7c36-45a3-95ad-40d32e78a2cc",
   "metadata": {},
   "outputs": [],
   "source": [
    "X_train, X_test, y_train, y_test = train_test_split(X,y, test_size =0.3, random_state=42)"
   ]
  },
  {
   "cell_type": "markdown",
   "id": "9e73854c-704a-4a18-a8eb-1db4f2a56ae7",
   "metadata": {},
   "source": [
    "> Для начала посмотрим на performance, который мы получим применив Decision Tree. Однако, стоить предупредить, что дерево решений для данной задачи было переписано именно под регрессию."
   ]
  },
  {
   "cell_type": "markdown",
   "id": "0d39280e-8481-4905-8dc4-4a77e9f7f4be",
   "metadata": {},
   "source": [
    "### Decision Tree Regressor"
   ]
  },
  {
   "cell_type": "code",
   "execution_count": null,
   "id": "5a716cc4-0aa0-433d-8c9b-5d855296c6ba",
   "metadata": {},
   "outputs": [],
   "source": [
    "# Создаем экземпляр класса DecisionTreeRegressor\n",
    "tree = DecisionTreeRegressor(criterion = 'mse', splitter = 'best', min_samples_leaf = 5)\n",
    "\n",
    "# Обучаем дерево\n",
    "tree.fit(X_train, y_train)\n",
    "\n",
    "# Делаем предсказание\n",
    "y_pred = tree.predict(X_test)\n",
    "mape = mean_absolute_percentage_error(y_test, y_pred)\n",
    "print(f\"Mape: {mape}\")\n",
    "\n",
    "# Проверка дерева на датасете перед построением ансамбля"
   ]
  },
  {
   "cell_type": "markdown",
   "id": "b7e4eceb-cf30-4952-be74-34ee2b9e2c3f",
   "metadata": {},
   "source": [
    "### Gradient Boosting"
   ]
  },
  {
   "cell_type": "code",
   "execution_count": null,
   "id": "947c2a73-7e10-457b-bb28-3c397da832b3",
   "metadata": {},
   "outputs": [],
   "source": [
    "# args для создания безлайна бустинга\n",
    "n_estimators = 100\n",
    "learning_rate = 0.1\n",
    "splitter = 'random' # Оставлю random, чтобы сделать безлайн\n",
    "min_samples_leaf = 1\n",
    "criterion = 'mse'\n",
    "max_features = None\n",
    "\n",
    "\n",
    "gb_model = GradientBoosting(n_estimators = n_estimators, learning_rate = learning_rate, splitter = splitter, min_samples_leaf = min_samples_leaf, criterion = criterion , max_features = max_features)\n",
    "gb_model.fit(X_train, y_train)"
   ]
  },
  {
   "cell_type": "code",
   "execution_count": null,
   "id": "6b704ca4-f27e-424b-9ba4-1cdec1aec8db",
   "metadata": {},
   "outputs": [],
   "source": [
    "# Предсказываем на тестовых данных\n",
    "y_pred = gb_model.predict(X_test)\n",
    "\n",
    "# Оцениваем качество модели\n",
    "mse = mean_squared_error(y_test, y_pred)\n",
    "mape = mean_absolute_percentage_error(y_test, y_pred)\n",
    "print(\"Mean Squared Error:\", mse)\n",
    "print(\"Mean Absolute Percentage Error:\", mape)"
   ]
  }
 ],
 "metadata": {
  "kernelspec": {
   "display_name": "Python 3 (ipykernel)",
   "language": "python",
   "name": "python3"
  },
  "language_info": {
   "codemirror_mode": {
    "name": "ipython",
    "version": 3
   },
   "file_extension": ".py",
   "mimetype": "text/x-python",
   "name": "python",
   "nbconvert_exporter": "python",
   "pygments_lexer": "ipython3",
   "version": "3.11.5"
  }
 },
 "nbformat": 4,
 "nbformat_minor": 5
}
